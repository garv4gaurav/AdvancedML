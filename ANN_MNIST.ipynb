{
  "nbformat": 4,
  "nbformat_minor": 0,
  "metadata": {
    "colab": {
      "name": "ANN_MNIST.ipynb",
      "provenance": []
    },
    "kernelspec": {
      "name": "python3",
      "display_name": "Python 3"
    },
    "accelerator": "GPU"
  },
  "cells": [
    {
      "cell_type": "code",
      "metadata": {
        "id": "0IEkTRwgvh6U"
      },
      "source": [
        "import numpy as np\n",
        "import pandas as pd\n",
        "import matplotlib.pyplot as plt\n",
        "from sklearn.model_selection import train_test_split\n",
        "from sklearn.metrics import confusion_matrix\n",
        "from sklearn.preprocessing import StandardScaler\n",
        "\n",
        "import keras\n",
        "from keras.models import Sequential\n",
        "from keras.layers import Dense\n",
        "\n",
        "import tensorflow as tf"
      ],
      "execution_count": 1,
      "outputs": []
    },
    {
      "cell_type": "code",
      "metadata": {
        "id": "k---BFBwyF2Y"
      },
      "source": [
        "(trainX, trainY), (testX, testY) = keras.datasets.fashion_mnist.load_data()"
      ],
      "execution_count": 2,
      "outputs": []
    },
    {
      "cell_type": "code",
      "metadata": {
        "colab": {
          "base_uri": "https://localhost:8080/"
        },
        "id": "0KiTz2V9yZ3p",
        "outputId": "d8470fa7-ad51-46ba-8968-e31f762b16cb"
      },
      "source": [
        "print(testY[0:5])"
      ],
      "execution_count": 3,
      "outputs": [
        {
          "output_type": "stream",
          "text": [
            "[9 2 1 1 6]\n"
          ],
          "name": "stdout"
        }
      ]
    },
    {
      "cell_type": "code",
      "metadata": {
        "colab": {
          "base_uri": "https://localhost:8080/"
        },
        "id": "AbT_ISHWytvm",
        "outputId": "973de6ec-824a-4149-d0d6-b8739b96a2c7"
      },
      "source": [
        "print(trainX.shape, trainY.shape, testX.shape, testY.shape)"
      ],
      "execution_count": 4,
      "outputs": [
        {
          "output_type": "stream",
          "text": [
            "(60000, 28, 28) (60000,) (10000, 28, 28) (10000,)\n"
          ],
          "name": "stdout"
        }
      ]
    },
    {
      "cell_type": "markdown",
      "metadata": {
        "id": "LzqeGtAczK0g"
      },
      "source": [
        "Since output/label is a category, we first need to convert it into One-Hot vectors. "
      ]
    },
    {
      "cell_type": "code",
      "metadata": {
        "id": "pgg-hzD2y-yi"
      },
      "source": [
        "trainY = tf.keras.utils.to_categorical(trainY, num_classes = 10)\n",
        "testY = tf.keras.utils.to_categorical(testY, num_classes = 10)"
      ],
      "execution_count": 5,
      "outputs": []
    },
    {
      "cell_type": "code",
      "metadata": {
        "colab": {
          "base_uri": "https://localhost:8080/"
        },
        "id": "icw54OMOzyy2",
        "outputId": "24fe5631-3f09-4ea6-c73e-f08b6164d1f4"
      },
      "source": [
        "testY[0:5]"
      ],
      "execution_count": 6,
      "outputs": [
        {
          "output_type": "execute_result",
          "data": {
            "text/plain": [
              "array([[0., 0., 0., 0., 0., 0., 0., 0., 0., 1.],\n",
              "       [0., 0., 1., 0., 0., 0., 0., 0., 0., 0.],\n",
              "       [0., 1., 0., 0., 0., 0., 0., 0., 0., 0.],\n",
              "       [0., 1., 0., 0., 0., 0., 0., 0., 0., 0.],\n",
              "       [0., 0., 0., 0., 0., 0., 1., 0., 0., 0.]], dtype=float32)"
            ]
          },
          "metadata": {
            "tags": []
          },
          "execution_count": 6
        }
      ]
    },
    {
      "cell_type": "code",
      "metadata": {
        "colab": {
          "base_uri": "https://localhost:8080/",
          "height": 184
        },
        "id": "T0EESezkz43g",
        "outputId": "ed901194-e0ab-435a-b441-62acd44a6e4f"
      },
      "source": [
        "plt.figure(figsize=(14,14))\n",
        "for i in range(5):\n",
        "    plt.subplot(1,5, i+1)\n",
        "    plt.imshow(testX[i], cmap=plt.cm.binary_r)"
      ],
      "execution_count": 7,
      "outputs": [
        {
          "output_type": "display_data",
          "data": {
            "image/png": "[encoded data removed]",
            "text/plain": [
              "<Figure size 1008x1008 with 5 Axes>"
            ]
          },
          "metadata": {
            "tags": [],
            "needs_background": "light"
          }
        }
      ]
    },
    {
      "cell_type": "code",
      "metadata": {
        "id": "jpGksVlT2A42"
      },
      "source": [
        "model = Sequential()\n",
        "model.add(keras.layers.Reshape((784,), input_shape=(28,28,)))\n",
        "model.add(keras.layers.Dense(10, activation='softmax'))\n",
        "model.compile(optimizer='adam', loss='categorical_crossentropy', metrics=['accuracy'])"
      ],
      "execution_count": 8,
      "outputs": []
    },
    {
      "cell_type": "code",
      "metadata": {
        "colab": {
          "base_uri": "https://localhost:8080/"
        },
        "id": "isfRJVvc3N0w",
        "outputId": "55334d8c-ab22-42ac-b3f4-8a556d8e8280"
      },
      "source": [
        "model.fit(trainX, trainY, validation_data=(testX, testY), epochs=50, batch_size=32)"
      ],
      "execution_count": 9,
      "outputs": [
        {
          "output_type": "stream",
          "text": [
            "Epoch 1/50\n",
            "   1/1875 [..............................] - ETA: 0s - loss: 245.5506 - accuracy: 0.0938WARNING:tensorflow:Callbacks method `on_train_batch_end` is slow compared to the batch time (batch time: 0.0021s vs `on_train_batch_end` time: 0.0034s). Check your callbacks.\n",
            "1875/1875 [==============================] - 4s 2ms/step - loss: 17.1103 - accuracy: 0.7402 - val_loss: 13.9731 - val_accuracy: 0.7883\n",
            "Epoch 2/50\n",
            "1875/1875 [==============================] - 4s 2ms/step - loss: 12.0101 - accuracy: 0.7885 - val_loss: 12.0152 - val_accuracy: 0.7782\n",
            "Epoch 3/50\n",
            "1875/1875 [==============================] - 4s 2ms/step - loss: 11.1046 - accuracy: 0.7963 - val_loss: 9.3419 - val_accuracy: 0.8144\n",
            "Epoch 4/50\n",
            "1875/1875 [==============================] - 4s 2ms/step - loss: 11.1045 - accuracy: 0.7983 - val_loss: 11.2170 - val_accuracy: 0.7809\n",
            "Epoch 5/50\n",
            "1875/1875 [==============================] - 4s 2ms/step - loss: 10.2472 - accuracy: 0.8019 - val_loss: 12.5048 - val_accuracy: 0.7772\n",
            "Epoch 6/50\n",
            "1875/1875 [==============================] - 4s 2ms/step - loss: 10.2726 - accuracy: 0.8056 - val_loss: 11.5978 - val_accuracy: 0.7709\n",
            "Epoch 7/50\n",
            "1875/1875 [==============================] - 4s 2ms/step - loss: 10.0796 - accuracy: 0.8049 - val_loss: 19.2068 - val_accuracy: 0.7489\n",
            "Epoch 8/50\n",
            "1875/1875 [==============================] - 4s 2ms/step - loss: 10.0936 - accuracy: 0.8061 - val_loss: 17.3934 - val_accuracy: 0.7412\n",
            "Epoch 9/50\n",
            "1875/1875 [==============================] - 4s 2ms/step - loss: 9.6475 - accuracy: 0.8092 - val_loss: 17.9606 - val_accuracy: 0.7721\n",
            "Epoch 10/50\n",
            "1875/1875 [==============================] - 4s 2ms/step - loss: 9.8284 - accuracy: 0.8079 - val_loss: 10.5735 - val_accuracy: 0.7953\n",
            "Epoch 11/50\n",
            "1875/1875 [==============================] - 4s 2ms/step - loss: 9.9080 - accuracy: 0.8085 - val_loss: 9.6042 - val_accuracy: 0.8048\n",
            "Epoch 12/50\n",
            "1875/1875 [==============================] - 4s 2ms/step - loss: 9.9542 - accuracy: 0.8091 - val_loss: 10.3785 - val_accuracy: 0.7964\n",
            "Epoch 13/50\n",
            "1875/1875 [==============================] - 4s 2ms/step - loss: 9.6767 - accuracy: 0.8120 - val_loss: 10.3838 - val_accuracy: 0.8080\n",
            "Epoch 14/50\n",
            "1875/1875 [==============================] - 4s 2ms/step - loss: 9.7719 - accuracy: 0.8109 - val_loss: 14.3592 - val_accuracy: 0.7804\n",
            "Epoch 15/50\n",
            "1875/1875 [==============================] - 4s 2ms/step - loss: 9.4698 - accuracy: 0.8121 - val_loss: 12.8932 - val_accuracy: 0.7728\n",
            "Epoch 16/50\n",
            "1875/1875 [==============================] - 4s 2ms/step - loss: 9.7690 - accuracy: 0.8104 - val_loss: 21.2609 - val_accuracy: 0.7481\n",
            "Epoch 17/50\n",
            "1875/1875 [==============================] - 4s 2ms/step - loss: 9.9943 - accuracy: 0.8081 - val_loss: 12.4287 - val_accuracy: 0.8053\n",
            "Epoch 18/50\n",
            "1875/1875 [==============================] - 4s 2ms/step - loss: 9.9705 - accuracy: 0.8113 - val_loss: 10.1213 - val_accuracy: 0.8186\n",
            "Epoch 19/50\n",
            "1875/1875 [==============================] - 4s 2ms/step - loss: 9.6436 - accuracy: 0.8119 - val_loss: 12.3503 - val_accuracy: 0.7817\n",
            "Epoch 20/50\n",
            "1875/1875 [==============================] - 4s 2ms/step - loss: 10.4182 - accuracy: 0.8113 - val_loss: 16.4461 - val_accuracy: 0.7330\n",
            "Epoch 21/50\n",
            "1875/1875 [==============================] - 4s 2ms/step - loss: 9.3383 - accuracy: 0.8142 - val_loss: 11.7646 - val_accuracy: 0.7922\n",
            "Epoch 22/50\n",
            "1875/1875 [==============================] - 4s 2ms/step - loss: 9.5771 - accuracy: 0.8117 - val_loss: 12.6029 - val_accuracy: 0.8026\n",
            "Epoch 23/50\n",
            "1875/1875 [==============================] - 4s 2ms/step - loss: 9.6248 - accuracy: 0.8141 - val_loss: 10.4265 - val_accuracy: 0.8078\n",
            "Epoch 24/50\n",
            "1875/1875 [==============================] - 4s 2ms/step - loss: 9.2601 - accuracy: 0.8142 - val_loss: 12.7459 - val_accuracy: 0.7840\n",
            "Epoch 25/50\n",
            "1875/1875 [==============================] - 4s 2ms/step - loss: 9.1868 - accuracy: 0.8136 - val_loss: 13.4140 - val_accuracy: 0.7615\n",
            "Epoch 26/50\n",
            "1875/1875 [==============================] - 4s 2ms/step - loss: 9.3600 - accuracy: 0.8138 - val_loss: 12.7399 - val_accuracy: 0.7840\n",
            "Epoch 27/50\n",
            "1875/1875 [==============================] - 4s 2ms/step - loss: 9.3923 - accuracy: 0.8150 - val_loss: 15.0371 - val_accuracy: 0.7731\n",
            "Epoch 28/50\n",
            "1875/1875 [==============================] - 4s 2ms/step - loss: 9.5865 - accuracy: 0.8147 - val_loss: 10.6592 - val_accuracy: 0.8102\n",
            "Epoch 29/50\n",
            "1875/1875 [==============================] - 4s 2ms/step - loss: 9.7146 - accuracy: 0.8137 - val_loss: 11.9205 - val_accuracy: 0.7928\n",
            "Epoch 30/50\n",
            "1875/1875 [==============================] - 4s 2ms/step - loss: 9.8436 - accuracy: 0.8155 - val_loss: 12.7008 - val_accuracy: 0.7762\n",
            "Epoch 31/50\n",
            "1875/1875 [==============================] - 4s 2ms/step - loss: 9.7804 - accuracy: 0.8140 - val_loss: 11.6392 - val_accuracy: 0.7952\n",
            "Epoch 32/50\n",
            "1875/1875 [==============================] - 4s 2ms/step - loss: 9.6132 - accuracy: 0.8145 - val_loss: 13.0470 - val_accuracy: 0.7843\n",
            "Epoch 33/50\n",
            "1875/1875 [==============================] - 4s 2ms/step - loss: 9.4232 - accuracy: 0.8157 - val_loss: 11.8066 - val_accuracy: 0.7868\n",
            "Epoch 34/50\n",
            "1875/1875 [==============================] - 4s 2ms/step - loss: 9.6803 - accuracy: 0.8138 - val_loss: 10.3339 - val_accuracy: 0.8161\n",
            "Epoch 35/50\n",
            "1875/1875 [==============================] - 4s 2ms/step - loss: 10.0834 - accuracy: 0.8141 - val_loss: 11.5316 - val_accuracy: 0.7858\n",
            "Epoch 36/50\n",
            "1875/1875 [==============================] - 4s 2ms/step - loss: 9.7658 - accuracy: 0.8164 - val_loss: 11.6739 - val_accuracy: 0.7966\n",
            "Epoch 37/50\n",
            "1875/1875 [==============================] - 4s 2ms/step - loss: 9.6526 - accuracy: 0.8173 - val_loss: 10.6808 - val_accuracy: 0.8100\n",
            "Epoch 38/50\n",
            "1875/1875 [==============================] - 4s 2ms/step - loss: 9.4516 - accuracy: 0.8166 - val_loss: 11.2251 - val_accuracy: 0.8148\n",
            "Epoch 39/50\n",
            "1875/1875 [==============================] - 4s 2ms/step - loss: 9.5222 - accuracy: 0.8173 - val_loss: 10.6427 - val_accuracy: 0.8175\n",
            "Epoch 40/50\n",
            "1875/1875 [==============================] - 4s 2ms/step - loss: 9.6592 - accuracy: 0.8153 - val_loss: 11.3948 - val_accuracy: 0.8016\n",
            "Epoch 41/50\n",
            "1875/1875 [==============================] - 4s 2ms/step - loss: 9.6685 - accuracy: 0.8174 - val_loss: 12.2724 - val_accuracy: 0.8116\n",
            "Epoch 42/50\n",
            "1875/1875 [==============================] - 4s 2ms/step - loss: 9.5606 - accuracy: 0.8169 - val_loss: 13.6129 - val_accuracy: 0.7759\n",
            "Epoch 43/50\n",
            "1875/1875 [==============================] - 4s 2ms/step - loss: 9.4092 - accuracy: 0.8177 - val_loss: 10.3555 - val_accuracy: 0.8117\n",
            "Epoch 44/50\n",
            "1875/1875 [==============================] - 4s 2ms/step - loss: 9.0844 - accuracy: 0.8178 - val_loss: 15.9110 - val_accuracy: 0.7603\n",
            "Epoch 45/50\n",
            "1875/1875 [==============================] - 4s 2ms/step - loss: 9.9665 - accuracy: 0.8144 - val_loss: 13.2280 - val_accuracy: 0.7688\n",
            "Epoch 46/50\n",
            "1875/1875 [==============================] - 4s 2ms/step - loss: 9.4253 - accuracy: 0.8196 - val_loss: 12.0638 - val_accuracy: 0.8015\n",
            "Epoch 47/50\n",
            "1875/1875 [==============================] - 4s 2ms/step - loss: 9.1928 - accuracy: 0.8160 - val_loss: 13.2320 - val_accuracy: 0.7907\n",
            "Epoch 48/50\n",
            "1875/1875 [==============================] - 4s 2ms/step - loss: 9.5028 - accuracy: 0.8169 - val_loss: 14.2999 - val_accuracy: 0.7636\n",
            "Epoch 49/50\n",
            "1875/1875 [==============================] - 4s 2ms/step - loss: 9.3948 - accuracy: 0.8177 - val_loss: 13.1127 - val_accuracy: 0.8101\n",
            "Epoch 50/50\n",
            "1875/1875 [==============================] - 4s 2ms/step - loss: 9.7676 - accuracy: 0.8172 - val_loss: 12.0543 - val_accuracy: 0.8014\n"
          ],
          "name": "stdout"
        },
        {
          "output_type": "execute_result",
          "data": {
            "text/plain": [
              "<tensorflow.python.keras.callbacks.History at 0x7fcb2044c780>"
            ]
          },
          "metadata": {
            "tags": []
          },
          "execution_count": 9
        }
      ]
    },
    {
      "cell_type": "markdown",
      "metadata": {
        "id": "l49-ORHF5etS"
      },
      "source": [
        "Adding BatchNormalization:"
      ]
    },
    {
      "cell_type": "code",
      "metadata": {
        "id": "TXv-mk-H3y4Q"
      },
      "source": [
        "model = Sequential()\n",
        "model.add(keras.layers.Reshape((784,), input_shape=(28,28,)))\n",
        "model.add(keras.layers.BatchNormalization())\n",
        "model.add(keras.layers.Dense(10, activation='softmax'))\n",
        "model.compile(optimizer='adam', loss='categorical_crossentropy', metrics=['accuracy'])"
      ],
      "execution_count": 10,
      "outputs": []
    },
    {
      "cell_type": "code",
      "metadata": {
        "colab": {
          "base_uri": "https://localhost:8080/"
        },
        "id": "B8Bl2oKB6s9b",
        "outputId": "8a60d040-096a-4595-ab87-38138608b4dd"
      },
      "source": [
        "model.fit(trainX, trainY, validation_data=(testX, testY), epochs=50, batch_size=32)"
      ],
      "execution_count": 11,
      "outputs": [
        {
          "output_type": "stream",
          "text": [
            "Epoch 1/50\n",
            "1875/1875 [==============================] - 4s 2ms/step - loss: 0.5553 - accuracy: 0.8067 - val_loss: 0.5019 - val_accuracy: 0.8347\n",
            "Epoch 2/50\n",
            "1875/1875 [==============================] - 4s 2ms/step - loss: 0.4757 - accuracy: 0.8360 - val_loss: 0.4931 - val_accuracy: 0.8351\n",
            "Epoch 3/50\n",
            "1875/1875 [==============================] - 4s 2ms/step - loss: 0.4627 - accuracy: 0.8388 - val_loss: 0.4942 - val_accuracy: 0.8382\n",
            "Epoch 4/50\n",
            "1875/1875 [==============================] - 4s 2ms/step - loss: 0.4549 - accuracy: 0.8413 - val_loss: 0.4853 - val_accuracy: 0.8395\n",
            "Epoch 5/50\n",
            "1875/1875 [==============================] - 4s 2ms/step - loss: 0.4493 - accuracy: 0.8435 - val_loss: 0.4913 - val_accuracy: 0.8410\n",
            "Epoch 6/50\n",
            "1875/1875 [==============================] - 4s 2ms/step - loss: 0.4433 - accuracy: 0.8452 - val_loss: 0.5034 - val_accuracy: 0.8318\n",
            "Epoch 7/50\n",
            "1875/1875 [==============================] - 4s 2ms/step - loss: 0.4407 - accuracy: 0.8468 - val_loss: 0.5097 - val_accuracy: 0.8344\n",
            "Epoch 8/50\n",
            "1875/1875 [==============================] - 4s 2ms/step - loss: 0.4371 - accuracy: 0.8465 - val_loss: 0.5109 - val_accuracy: 0.8339\n",
            "Epoch 9/50\n",
            "1875/1875 [==============================] - 4s 2ms/step - loss: 0.4357 - accuracy: 0.8472 - val_loss: 0.5017 - val_accuracy: 0.8354\n",
            "Epoch 10/50\n",
            "1875/1875 [==============================] - 4s 2ms/step - loss: 0.4334 - accuracy: 0.8486 - val_loss: 0.4920 - val_accuracy: 0.8397\n",
            "Epoch 11/50\n",
            "1875/1875 [==============================] - 4s 2ms/step - loss: 0.4336 - accuracy: 0.8472 - val_loss: 0.5072 - val_accuracy: 0.8371\n",
            "Epoch 12/50\n",
            "1875/1875 [==============================] - 4s 2ms/step - loss: 0.4312 - accuracy: 0.8478 - val_loss: 0.4889 - val_accuracy: 0.8418\n",
            "Epoch 13/50\n",
            "1875/1875 [==============================] - 4s 2ms/step - loss: 0.4305 - accuracy: 0.8487 - val_loss: 0.5743 - val_accuracy: 0.8367\n",
            "Epoch 14/50\n",
            "1875/1875 [==============================] - 4s 2ms/step - loss: 0.4272 - accuracy: 0.8489 - val_loss: 0.5194 - val_accuracy: 0.8367\n",
            "Epoch 15/50\n",
            "1875/1875 [==============================] - 4s 2ms/step - loss: 0.4283 - accuracy: 0.8504 - val_loss: 0.5160 - val_accuracy: 0.8426\n",
            "Epoch 16/50\n",
            "1875/1875 [==============================] - 4s 2ms/step - loss: 0.4263 - accuracy: 0.8509 - val_loss: 0.4981 - val_accuracy: 0.8371\n",
            "Epoch 17/50\n",
            "1875/1875 [==============================] - 4s 2ms/step - loss: 0.4248 - accuracy: 0.8518 - val_loss: 0.5136 - val_accuracy: 0.8318\n",
            "Epoch 18/50\n",
            "1875/1875 [==============================] - 4s 2ms/step - loss: 0.4246 - accuracy: 0.8507 - val_loss: 0.5051 - val_accuracy: 0.8414\n",
            "Epoch 19/50\n",
            "1875/1875 [==============================] - 4s 2ms/step - loss: 0.4228 - accuracy: 0.8507 - val_loss: 0.5310 - val_accuracy: 0.8403\n",
            "Epoch 20/50\n",
            "1875/1875 [==============================] - 4s 2ms/step - loss: 0.4214 - accuracy: 0.8516 - val_loss: 0.5726 - val_accuracy: 0.8263\n",
            "Epoch 21/50\n",
            "1875/1875 [==============================] - 4s 2ms/step - loss: 0.4230 - accuracy: 0.8518 - val_loss: 0.5150 - val_accuracy: 0.8371\n",
            "Epoch 22/50\n",
            "1875/1875 [==============================] - 4s 2ms/step - loss: 0.4206 - accuracy: 0.8525 - val_loss: 0.4978 - val_accuracy: 0.8394\n",
            "Epoch 23/50\n",
            "1875/1875 [==============================] - 4s 2ms/step - loss: 0.4202 - accuracy: 0.8525 - val_loss: 0.5276 - val_accuracy: 0.8339\n",
            "Epoch 24/50\n",
            "1875/1875 [==============================] - 4s 2ms/step - loss: 0.4183 - accuracy: 0.8530 - val_loss: 0.5015 - val_accuracy: 0.8398\n",
            "Epoch 25/50\n",
            "1875/1875 [==============================] - 4s 2ms/step - loss: 0.4197 - accuracy: 0.8509 - val_loss: 0.5405 - val_accuracy: 0.8355\n",
            "Epoch 26/50\n",
            "1875/1875 [==============================] - 4s 2ms/step - loss: 0.4214 - accuracy: 0.8510 - val_loss: 0.5086 - val_accuracy: 0.8412\n",
            "Epoch 27/50\n",
            "1875/1875 [==============================] - 4s 2ms/step - loss: 0.4166 - accuracy: 0.8539 - val_loss: 0.4976 - val_accuracy: 0.8392\n",
            "Epoch 28/50\n",
            "1875/1875 [==============================] - 4s 2ms/step - loss: 0.4199 - accuracy: 0.8511 - val_loss: 0.5721 - val_accuracy: 0.8346\n",
            "Epoch 29/50\n",
            "1875/1875 [==============================] - 4s 2ms/step - loss: 0.4172 - accuracy: 0.8527 - val_loss: 0.5326 - val_accuracy: 0.8370\n",
            "Epoch 30/50\n",
            "1875/1875 [==============================] - 5s 2ms/step - loss: 0.4168 - accuracy: 0.8524 - val_loss: 0.5034 - val_accuracy: 0.8362\n",
            "Epoch 31/50\n",
            "1875/1875 [==============================] - 4s 2ms/step - loss: 0.4136 - accuracy: 0.8540 - val_loss: 0.5188 - val_accuracy: 0.8375\n",
            "Epoch 32/50\n",
            "1875/1875 [==============================] - 4s 2ms/step - loss: 0.4157 - accuracy: 0.8526 - val_loss: 0.5099 - val_accuracy: 0.8353\n",
            "Epoch 33/50\n",
            "1875/1875 [==============================] - 4s 2ms/step - loss: 0.4175 - accuracy: 0.8534 - val_loss: 0.4860 - val_accuracy: 0.8387\n",
            "Epoch 34/50\n",
            "1875/1875 [==============================] - 4s 2ms/step - loss: 0.4147 - accuracy: 0.8528 - val_loss: 0.5258 - val_accuracy: 0.8410\n",
            "Epoch 35/50\n",
            "1875/1875 [==============================] - 4s 2ms/step - loss: 0.4165 - accuracy: 0.8528 - val_loss: 0.5923 - val_accuracy: 0.8386\n",
            "Epoch 36/50\n",
            "1875/1875 [==============================] - 4s 2ms/step - loss: 0.4164 - accuracy: 0.8525 - val_loss: 0.4926 - val_accuracy: 0.8373\n",
            "Epoch 37/50\n",
            "1875/1875 [==============================] - 4s 2ms/step - loss: 0.4168 - accuracy: 0.8536 - val_loss: 0.4986 - val_accuracy: 0.8373\n",
            "Epoch 38/50\n",
            "1875/1875 [==============================] - 4s 2ms/step - loss: 0.4166 - accuracy: 0.8526 - val_loss: 0.4879 - val_accuracy: 0.8395\n",
            "Epoch 39/50\n",
            "1875/1875 [==============================] - 4s 2ms/step - loss: 0.4160 - accuracy: 0.8533 - val_loss: 0.5269 - val_accuracy: 0.8384\n",
            "Epoch 40/50\n",
            "1875/1875 [==============================] - 4s 2ms/step - loss: 0.4142 - accuracy: 0.8540 - val_loss: 0.4954 - val_accuracy: 0.8400\n",
            "Epoch 41/50\n",
            "1875/1875 [==============================] - 4s 2ms/step - loss: 0.4151 - accuracy: 0.8539 - val_loss: 0.5004 - val_accuracy: 0.8373\n",
            "Epoch 42/50\n",
            "1875/1875 [==============================] - 4s 2ms/step - loss: 0.4129 - accuracy: 0.8551 - val_loss: 0.5088 - val_accuracy: 0.8348\n",
            "Epoch 43/50\n",
            "1875/1875 [==============================] - 4s 2ms/step - loss: 0.4140 - accuracy: 0.8538 - val_loss: 0.4885 - val_accuracy: 0.8392\n",
            "Epoch 44/50\n",
            "1875/1875 [==============================] - 4s 2ms/step - loss: 0.4134 - accuracy: 0.8540 - val_loss: 0.5048 - val_accuracy: 0.8398\n",
            "Epoch 45/50\n",
            "1875/1875 [==============================] - 4s 2ms/step - loss: 0.4138 - accuracy: 0.8535 - val_loss: 0.5053 - val_accuracy: 0.8398\n",
            "Epoch 46/50\n",
            "1875/1875 [==============================] - 4s 2ms/step - loss: 0.4153 - accuracy: 0.8528 - val_loss: 0.4830 - val_accuracy: 0.8393\n",
            "Epoch 47/50\n",
            "1875/1875 [==============================] - 4s 2ms/step - loss: 0.4112 - accuracy: 0.8543 - val_loss: 0.4875 - val_accuracy: 0.8406\n",
            "Epoch 48/50\n",
            "1875/1875 [==============================] - 4s 2ms/step - loss: 0.4137 - accuracy: 0.8529 - val_loss: 0.5000 - val_accuracy: 0.8402\n",
            "Epoch 49/50\n",
            "1875/1875 [==============================] - 4s 2ms/step - loss: 0.4123 - accuracy: 0.8543 - val_loss: 0.4911 - val_accuracy: 0.8398\n",
            "Epoch 50/50\n",
            "1875/1875 [==============================] - 4s 2ms/step - loss: 0.4134 - accuracy: 0.8524 - val_loss: 0.5005 - val_accuracy: 0.8408\n"
          ],
          "name": "stdout"
        },
        {
          "output_type": "execute_result",
          "data": {
            "text/plain": [
              "<tensorflow.python.keras.callbacks.History at 0x7fcb20329f98>"
            ]
          },
          "metadata": {
            "tags": []
          },
          "execution_count": 11
        }
      ]
    },
    {
      "cell_type": "code",
      "metadata": {
        "id": "T9Uh1T0R7CK3"
      },
      "source": [
        ""
      ],
      "execution_count": 11,
      "outputs": []
    }
  ]
}